{
 "cells": [
  {
   "cell_type": "code",
   "execution_count": 13,
   "metadata": {},
   "outputs": [
    {
     "name": "stdout",
     "output_type": "stream",
     "text": [
      "随机的初始突触权重：\n[[-0.16595599]\n [ 0.44064899]\n [-0.99977125]]\n训练后的突触权重：\n[[ 9.67299303]\n [-0.2078435 ]\n [-4.62963669]]\n考虑新的形势 [1, 0, 0] -> ?: \n[ 0.99993704]\n"
     ]
    }
   ],
   "source": [
    "from numpy import exp, array, random, dot\n",
    "\n",
    "\n",
    "class NeuralNetwork():\n",
    "    def __init__(self):\n",
    "        # 随机数发生器种子，以保证每次获得相同结果\n",
    "        random.seed(1)\n",
    "\n",
    "        # 对单个神经元建模，含有3个输入连接和一个输出连接\n",
    "        # 对一个3 x 1的矩阵赋予随机权重值。范围-1～1，平均值为0\n",
    "        self.synaptic_weights = 2 * random.random((3, 1)) - 1\n",
    "\n",
    "    # Sigmoid函数，S形曲线\n",
    "    # 用这个函数对输入的加权总和做正规化，使其范围在0～1\n",
    "    def __sigmoid(self, x):\n",
    "        return 1 / (1 + exp(-x))\n",
    "\n",
    "    # Sigmoid函数的导数\n",
    "    # Sigmoid曲线的梯度\n",
    "    # 表示我们对当前权重的置信程度\n",
    "    def __sigmoid_derivative(self, x):\n",
    "        return x * (1 - x)\n",
    "\n",
    "    # 通过试错过程训练神经网络\n",
    "    # 每次都调整突触权重\n",
    "    def train(self, training_set_inputs, training_set_outputs, number_of_training_iterations):\n",
    "        for iteration in range(number_of_training_iterations):\n",
    "            # 将训练集导入神经网络\n",
    "            output = self.think(training_set_inputs)\n",
    "\n",
    "            # 计算误差（实际值与期望值之差）\n",
    "            error = training_set_outputs - output\n",
    "\n",
    "            # 将误差、输入和S曲线梯度相乘\n",
    "            # 对于置信程度低的权重，调整程度也大\n",
    "            # 为0的输入值不会影响权重\n",
    "            adjustment = dot(training_set_inputs.T, error * self.__sigmoid_derivative(output))\n",
    "\n",
    "            # 调整权重\n",
    "            self.synaptic_weights += adjustment\n",
    "\n",
    "    # 神经网络一思考\n",
    "    def think(self, inputs):\n",
    "        # 把输入传递给神经网络\n",
    "        return self.__sigmoid(dot(inputs, self.synaptic_weights))\n",
    "\n",
    "\n",
    "if __name__ == \"__main__\":\n",
    "    # 初始化神经网络\n",
    "    neural_network = NeuralNetwork()\n",
    "\n",
    "    print(\"随机的初始突触权重：\")\n",
    "\n",
    "    print(neural_network.synaptic_weights)\n",
    "\n",
    "    # 训练集。四个样本，每个有3个输入和1个输出\n",
    "    training_set_inputs = array([[0, 0, 1], [1, 1, 1], [1, 0, 1], [0, 1, 1]])\n",
    "    training_set_outputs = array([[0, 1, 1, 0]]).T\n",
    "\n",
    "    # 用训练集训练神经网络\n",
    "    # 重复一万次，每次做微小的调整\n",
    "    neural_network.train(training_set_inputs, training_set_outputs, 10000)\n",
    "\n",
    "    print(\"训练后的突触权重：\")\n",
    "    print(neural_network.synaptic_weights)\n",
    "\n",
    "    # 用新数据测试神经网络\n",
    "    print(\"考虑新的形势 [1, 0, 0] -> ?: \")\n",
    "    print(neural_network.think(array([1, 0, 0])))"
   ]
  },
  {
   "cell_type": "code",
   "execution_count": 1,
   "metadata": {},
   "outputs": [
    {
     "ename": "ModuleNotFoundError",
     "evalue": "No module named 'pyttsx'",
     "traceback": [
      "\u001b[0;31m---------------------------------------------------------------------------\u001b[0m",
      "\u001b[0;31mModuleNotFoundError\u001b[0m                       Traceback (most recent call last)",
      "\u001b[0;32m<ipython-input-1-db9894086c56>\u001b[0m in \u001b[0;36m<module>\u001b[0;34m()\u001b[0m\n\u001b[0;32m----> 1\u001b[0;31m \u001b[0;32mimport\u001b[0m \u001b[0mpyttsx\u001b[0m\u001b[0;34m\u001b[0m\u001b[0m\n\u001b[0m\u001b[1;32m      2\u001b[0m \u001b[0mengine\u001b[0m \u001b[0;34m=\u001b[0m \u001b[0mpyttsx\u001b[0m\u001b[0;34m.\u001b[0m\u001b[0minit\u001b[0m\u001b[0;34m(\u001b[0m\u001b[0;34m)\u001b[0m\u001b[0;34m\u001b[0m\u001b[0m\n\u001b[1;32m      3\u001b[0m \u001b[0mengine\u001b[0m\u001b[0;34m.\u001b[0m\u001b[0msay\u001b[0m\u001b[0;34m(\u001b[0m\u001b[0;34m'Good morning.'\u001b[0m\u001b[0;34m)\u001b[0m\u001b[0;34m\u001b[0m\u001b[0m\n\u001b[1;32m      4\u001b[0m \u001b[0mengine\u001b[0m\u001b[0;34m.\u001b[0m\u001b[0mrunAndWait\u001b[0m\u001b[0;34m(\u001b[0m\u001b[0;34m)\u001b[0m\u001b[0;34m\u001b[0m\u001b[0m\n",
      "\u001b[0;31mModuleNotFoundError\u001b[0m: No module named 'pyttsx'"
     ],
     "output_type": "error"
    }
   ],
   "source": [
    "import pyttsx\n",
    "engine = pyttsx.init()\n",
    "engine.say('Good morning.')\n",
    "engine.runAndWait()"
   ]
  },
  {
   "cell_type": "code",
   "execution_count": 6,
   "metadata": {},
   "outputs": [],
   "source": [
    ""
   ]
  },
  {
   "cell_type": "code",
   "execution_count": null,
   "metadata": {},
   "outputs": [],
   "source": [
    ""
   ]
  }
 ],
 "metadata": {
  "kernelspec": {
   "display_name": "Python 2",
   "language": "python",
   "name": "python2"
  },
  "language_info": {
   "codemirror_mode": {
    "name": "ipython",
    "version": 2.0
   },
   "file_extension": ".py",
   "mimetype": "text/x-python",
   "name": "python",
   "nbconvert_exporter": "python",
   "pygments_lexer": "ipython2",
   "version": "2.7.6"
  }
 },
 "nbformat": 4,
 "nbformat_minor": 0
}